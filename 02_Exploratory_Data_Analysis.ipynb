{
  "nbformat": 4,
  "nbformat_minor": 0,
  "metadata": {
    "colab": {
      "name": "02 Exploratory Data Analysis.ipynb",
      "provenance": [],
      "include_colab_link": true
    },
    "kernelspec": {
      "name": "python3",
      "display_name": "Python 3"
    }
  },
  "cells": [
    {
      "cell_type": "markdown",
      "metadata": {
        "id": "view-in-github",
        "colab_type": "text"
      },
      "source": [
        "<a href=\"https://colab.research.google.com/github/NeefPoom/CP3-Poomi-Keaokao/blob/master/02_Exploratory_Data_Analysis.ipynb\" target=\"_parent\"><img src=\"https://colab.research.google.com/assets/colab-badge.svg\" alt=\"Open In Colab\"/></a>"
      ]
    },
    {
      "cell_type": "code",
      "metadata": {
        "id": "cUY9adlcbS_n",
        "colab_type": "code",
        "colab": {}
      },
      "source": [
        "import pandas as pd\n",
        "import matplotlib.pyplot as plt"
      ],
      "execution_count": 0,
      "outputs": []
    },
    {
      "cell_type": "code",
      "metadata": {
        "id": "hvZ6pipnbmAu",
        "colab_type": "code",
        "outputId": "a9709de2-98e2-4092-912a-aa57ca0dbd25",
        "colab": {
          "base_uri": "https://localhost:8080/",
          "height": 204
        }
      },
      "source": [
        "# read csv files from Github\n",
        "\n",
        "url = 'https://raw.githubusercontent.com/thanachart/IntroBADS/master/Transactions_cleaned.csv'\n",
        "df_transactions = pd.read_csv(url)\n",
        "df_transactions.head(5)"
      ],
      "execution_count": 0,
      "outputs": [
        {
          "output_type": "execute_result",
          "data": {
            "text/html": [
              "<div>\n",
              "<style scoped>\n",
              "    .dataframe tbody tr th:only-of-type {\n",
              "        vertical-align: middle;\n",
              "    }\n",
              "\n",
              "    .dataframe tbody tr th {\n",
              "        vertical-align: top;\n",
              "    }\n",
              "\n",
              "    .dataframe thead th {\n",
              "        text-align: right;\n",
              "    }\n",
              "</style>\n",
              "<table border=\"1\" class=\"dataframe\">\n",
              "  <thead>\n",
              "    <tr style=\"text-align: right;\">\n",
              "      <th></th>\n",
              "      <th>transaction_id</th>\n",
              "      <th>cust_id</th>\n",
              "      <th>tran_date</th>\n",
              "      <th>prod_subcat_code</th>\n",
              "      <th>prod_cat_code</th>\n",
              "      <th>Qty</th>\n",
              "      <th>Rate</th>\n",
              "      <th>Tax</th>\n",
              "      <th>total_amt</th>\n",
              "      <th>Store_type</th>\n",
              "    </tr>\n",
              "  </thead>\n",
              "  <tbody>\n",
              "    <tr>\n",
              "      <th>0</th>\n",
              "      <td>29258453508</td>\n",
              "      <td>270384</td>\n",
              "      <td>20/2/2014</td>\n",
              "      <td>5</td>\n",
              "      <td>3</td>\n",
              "      <td>5</td>\n",
              "      <td>1497</td>\n",
              "      <td>785.925</td>\n",
              "      <td>8270.925</td>\n",
              "      <td>e-Shop</td>\n",
              "    </tr>\n",
              "    <tr>\n",
              "      <th>1</th>\n",
              "      <td>80712190438</td>\n",
              "      <td>270351</td>\n",
              "      <td>20/2/2014</td>\n",
              "      <td>1</td>\n",
              "      <td>1</td>\n",
              "      <td>5</td>\n",
              "      <td>772</td>\n",
              "      <td>405.300</td>\n",
              "      <td>4265.300</td>\n",
              "      <td>e-Shop</td>\n",
              "    </tr>\n",
              "    <tr>\n",
              "      <th>2</th>\n",
              "      <td>58223423237</td>\n",
              "      <td>268138</td>\n",
              "      <td>17/2/2014</td>\n",
              "      <td>6</td>\n",
              "      <td>5</td>\n",
              "      <td>3</td>\n",
              "      <td>1398</td>\n",
              "      <td>440.370</td>\n",
              "      <td>4634.370</td>\n",
              "      <td>e-Shop</td>\n",
              "    </tr>\n",
              "    <tr>\n",
              "      <th>3</th>\n",
              "      <td>22643667930</td>\n",
              "      <td>271489</td>\n",
              "      <td>17/2/2014</td>\n",
              "      <td>12</td>\n",
              "      <td>6</td>\n",
              "      <td>1</td>\n",
              "      <td>1225</td>\n",
              "      <td>128.625</td>\n",
              "      <td>1353.625</td>\n",
              "      <td>TeleShop</td>\n",
              "    </tr>\n",
              "    <tr>\n",
              "      <th>4</th>\n",
              "      <td>79792372943</td>\n",
              "      <td>275108</td>\n",
              "      <td>17/2/2014</td>\n",
              "      <td>3</td>\n",
              "      <td>1</td>\n",
              "      <td>3</td>\n",
              "      <td>908</td>\n",
              "      <td>286.020</td>\n",
              "      <td>3010.020</td>\n",
              "      <td>MBR</td>\n",
              "    </tr>\n",
              "  </tbody>\n",
              "</table>\n",
              "</div>"
            ],
            "text/plain": [
              "   transaction_id  cust_id  tran_date  ...      Tax  total_amt  Store_type\n",
              "0     29258453508   270384  20/2/2014  ...  785.925   8270.925      e-Shop\n",
              "1     80712190438   270351  20/2/2014  ...  405.300   4265.300      e-Shop\n",
              "2     58223423237   268138  17/2/2014  ...  440.370   4634.370      e-Shop\n",
              "3     22643667930   271489  17/2/2014  ...  128.625   1353.625    TeleShop\n",
              "4     79792372943   275108  17/2/2014  ...  286.020   3010.020         MBR\n",
              "\n",
              "[5 rows x 10 columns]"
            ]
          },
          "metadata": {
            "tags": []
          },
          "execution_count": 18
        }
      ]
    },
    {
      "cell_type": "markdown",
      "metadata": {
        "id": "bSjEK1Vmb_5y",
        "colab_type": "text"
      },
      "source": [
        "# Checking data quality"
      ]
    },
    {
      "cell_type": "code",
      "metadata": {
        "id": "oGHrZVxgbuCu",
        "colab_type": "code",
        "outputId": "ffc2d019-cd63-4a7e-9bf1-09330feacdcf",
        "colab": {
          "base_uri": "https://localhost:8080/",
          "height": 209
        }
      },
      "source": [
        "#display a data type of each column\n",
        "\n",
        "df_transactions.dtypes\n",
        "\n",
        "#you will notice that tran_date is stored as an object, not datetime datatype"
      ],
      "execution_count": 0,
      "outputs": [
        {
          "output_type": "execute_result",
          "data": {
            "text/plain": [
              "transaction_id        int64\n",
              "cust_id               int64\n",
              "tran_date            object\n",
              "prod_subcat_code      int64\n",
              "prod_cat_code         int64\n",
              "Qty                   int64\n",
              "Rate                  int64\n",
              "Tax                 float64\n",
              "total_amt           float64\n",
              "Store_type           object\n",
              "dtype: object"
            ]
          },
          "metadata": {
            "tags": []
          },
          "execution_count": 19
        }
      ]
    },
    {
      "cell_type": "code",
      "metadata": {
        "id": "Fzml-PR-b6SN",
        "colab_type": "code",
        "outputId": "d84a6ece-7449-45a2-f5ea-389d40d31271",
        "colab": {
          "base_uri": "https://localhost:8080/",
          "height": 209
        }
      },
      "source": [
        "#we will convert tran_date into datetime column\n",
        "\n",
        "df_transactions['tran_date'] = pd.to_datetime(df_transactions['tran_date'], errors='coerce')\n",
        "\n",
        "df_transactions.dtypes"
      ],
      "execution_count": 0,
      "outputs": [
        {
          "output_type": "execute_result",
          "data": {
            "text/plain": [
              "transaction_id               int64\n",
              "cust_id                      int64\n",
              "tran_date           datetime64[ns]\n",
              "prod_subcat_code             int64\n",
              "prod_cat_code                int64\n",
              "Qty                          int64\n",
              "Rate                         int64\n",
              "Tax                        float64\n",
              "total_amt                  float64\n",
              "Store_type                  object\n",
              "dtype: object"
            ]
          },
          "metadata": {
            "tags": []
          },
          "execution_count": 20
        }
      ]
    },
    {
      "cell_type": "code",
      "metadata": {
        "id": "HAV0TRc6cRt6",
        "colab_type": "code",
        "outputId": "c56e0f83-85d8-4c46-e2e2-f38ce26d9351",
        "colab": {
          "base_uri": "https://localhost:8080/",
          "height": 209
        }
      },
      "source": [
        "#let's see whether there is any missing value\n",
        "\n",
        "df_transactions.isnull().sum()"
      ],
      "execution_count": 0,
      "outputs": [
        {
          "output_type": "execute_result",
          "data": {
            "text/plain": [
              "transaction_id      0\n",
              "cust_id             0\n",
              "tran_date           0\n",
              "prod_subcat_code    0\n",
              "prod_cat_code       0\n",
              "Qty                 0\n",
              "Rate                0\n",
              "Tax                 0\n",
              "total_amt           0\n",
              "Store_type          0\n",
              "dtype: int64"
            ]
          },
          "metadata": {
            "tags": []
          },
          "execution_count": 21
        }
      ]
    },
    {
      "cell_type": "markdown",
      "metadata": {
        "id": "l2_scbfmeFWd",
        "colab_type": "text"
      },
      "source": [
        "# Describing data"
      ]
    },
    {
      "cell_type": "code",
      "metadata": {
        "id": "0ui_xjoTeH1s",
        "colab_type": "code",
        "outputId": "09d24e6b-9bd5-4709-cc85-2bad3c7099d9",
        "colab": {
          "base_uri": "https://localhost:8080/",
          "height": 297
        }
      },
      "source": [
        "df_transactions.describe()"
      ],
      "execution_count": 0,
      "outputs": [
        {
          "output_type": "execute_result",
          "data": {
            "text/html": [
              "<div>\n",
              "<style scoped>\n",
              "    .dataframe tbody tr th:only-of-type {\n",
              "        vertical-align: middle;\n",
              "    }\n",
              "\n",
              "    .dataframe tbody tr th {\n",
              "        vertical-align: top;\n",
              "    }\n",
              "\n",
              "    .dataframe thead th {\n",
              "        text-align: right;\n",
              "    }\n",
              "</style>\n",
              "<table border=\"1\" class=\"dataframe\">\n",
              "  <thead>\n",
              "    <tr style=\"text-align: right;\">\n",
              "      <th></th>\n",
              "      <th>transaction_id</th>\n",
              "      <th>cust_id</th>\n",
              "      <th>prod_subcat_code</th>\n",
              "      <th>prod_cat_code</th>\n",
              "      <th>Qty</th>\n",
              "      <th>Rate</th>\n",
              "      <th>Tax</th>\n",
              "      <th>total_amt</th>\n",
              "    </tr>\n",
              "  </thead>\n",
              "  <tbody>\n",
              "    <tr>\n",
              "      <th>count</th>\n",
              "      <td>2.057000e+03</td>\n",
              "      <td>2057.000000</td>\n",
              "      <td>2057.000000</td>\n",
              "      <td>2057.000000</td>\n",
              "      <td>2057.000000</td>\n",
              "      <td>2057.000000</td>\n",
              "      <td>2057.000000</td>\n",
              "      <td>2057.000000</td>\n",
              "    </tr>\n",
              "    <tr>\n",
              "      <th>mean</th>\n",
              "      <td>5.060694e+10</td>\n",
              "      <td>270972.122022</td>\n",
              "      <td>6.083617</td>\n",
              "      <td>3.783666</td>\n",
              "      <td>3.046670</td>\n",
              "      <td>797.649976</td>\n",
              "      <td>256.407193</td>\n",
              "      <td>2698.380455</td>\n",
              "    </tr>\n",
              "    <tr>\n",
              "      <th>std</th>\n",
              "      <td>2.920196e+10</td>\n",
              "      <td>2411.792750</td>\n",
              "      <td>3.756422</td>\n",
              "      <td>1.688645</td>\n",
              "      <td>1.419966</td>\n",
              "      <td>417.077836</td>\n",
              "      <td>191.482363</td>\n",
              "      <td>2015.123916</td>\n",
              "    </tr>\n",
              "    <tr>\n",
              "      <th>min</th>\n",
              "      <td>8.712565e+07</td>\n",
              "      <td>266783.000000</td>\n",
              "      <td>1.000000</td>\n",
              "      <td>1.000000</td>\n",
              "      <td>1.000000</td>\n",
              "      <td>71.000000</td>\n",
              "      <td>7.560000</td>\n",
              "      <td>79.560000</td>\n",
              "    </tr>\n",
              "    <tr>\n",
              "      <th>25%</th>\n",
              "      <td>2.535565e+10</td>\n",
              "      <td>268906.000000</td>\n",
              "      <td>3.000000</td>\n",
              "      <td>2.000000</td>\n",
              "      <td>2.000000</td>\n",
              "      <td>425.000000</td>\n",
              "      <td>101.220000</td>\n",
              "      <td>1065.220000</td>\n",
              "    </tr>\n",
              "    <tr>\n",
              "      <th>50%</th>\n",
              "      <td>5.019010e+10</td>\n",
              "      <td>270864.000000</td>\n",
              "      <td>5.000000</td>\n",
              "      <td>4.000000</td>\n",
              "      <td>3.000000</td>\n",
              "      <td>809.000000</td>\n",
              "      <td>206.010000</td>\n",
              "      <td>2168.010000</td>\n",
              "    </tr>\n",
              "    <tr>\n",
              "      <th>75%</th>\n",
              "      <td>7.691656e+10</td>\n",
              "      <td>273035.000000</td>\n",
              "      <td>10.000000</td>\n",
              "      <td>5.000000</td>\n",
              "      <td>4.000000</td>\n",
              "      <td>1163.000000</td>\n",
              "      <td>380.205000</td>\n",
              "      <td>4001.205000</td>\n",
              "    </tr>\n",
              "    <tr>\n",
              "      <th>max</th>\n",
              "      <td>9.998675e+10</td>\n",
              "      <td>275261.000000</td>\n",
              "      <td>12.000000</td>\n",
              "      <td>6.000000</td>\n",
              "      <td>5.000000</td>\n",
              "      <td>1499.000000</td>\n",
              "      <td>785.925000</td>\n",
              "      <td>8270.925000</td>\n",
              "    </tr>\n",
              "  </tbody>\n",
              "</table>\n",
              "</div>"
            ],
            "text/plain": [
              "       transaction_id        cust_id  ...          Tax    total_amt\n",
              "count    2.057000e+03    2057.000000  ...  2057.000000  2057.000000\n",
              "mean     5.060694e+10  270972.122022  ...   256.407193  2698.380455\n",
              "std      2.920196e+10    2411.792750  ...   191.482363  2015.123916\n",
              "min      8.712565e+07  266783.000000  ...     7.560000    79.560000\n",
              "25%      2.535565e+10  268906.000000  ...   101.220000  1065.220000\n",
              "50%      5.019010e+10  270864.000000  ...   206.010000  2168.010000\n",
              "75%      7.691656e+10  273035.000000  ...   380.205000  4001.205000\n",
              "max      9.998675e+10  275261.000000  ...   785.925000  8270.925000\n",
              "\n",
              "[8 rows x 8 columns]"
            ]
          },
          "metadata": {
            "tags": []
          },
          "execution_count": 22
        }
      ]
    },
    {
      "cell_type": "code",
      "metadata": {
        "id": "BGpyIf-lfcwK",
        "colab_type": "code",
        "outputId": "0c08ae4e-fad7-4f42-cedd-90dcbab1f7be",
        "colab": {
          "base_uri": "https://localhost:8080/",
          "height": 104
        }
      },
      "source": [
        "#how many store types?\n",
        "\n",
        "df_transactions['Store_type'].drop_duplicates()"
      ],
      "execution_count": 0,
      "outputs": [
        {
          "output_type": "execute_result",
          "data": {
            "text/plain": [
              "0             e-Shop\n",
              "3           TeleShop\n",
              "4                MBR\n",
              "23    Flagship store\n",
              "Name: Store_type, dtype: object"
            ]
          },
          "metadata": {
            "tags": []
          },
          "execution_count": 29
        }
      ]
    },
    {
      "cell_type": "code",
      "metadata": {
        "id": "n-uHguuReqah",
        "colab_type": "code",
        "outputId": "075234ec-dfb9-4078-a50a-70af056de9d9",
        "colab": {
          "base_uri": "https://localhost:8080/",
          "height": 762
        }
      },
      "source": [
        "#how many products were sold?\n",
        "\n",
        "df_transactions[['prod_subcat_code', 'prod_cat_code']].drop_duplicates()"
      ],
      "execution_count": 0,
      "outputs": [
        {
          "output_type": "execute_result",
          "data": {
            "text/html": [
              "<div>\n",
              "<style scoped>\n",
              "    .dataframe tbody tr th:only-of-type {\n",
              "        vertical-align: middle;\n",
              "    }\n",
              "\n",
              "    .dataframe tbody tr th {\n",
              "        vertical-align: top;\n",
              "    }\n",
              "\n",
              "    .dataframe thead th {\n",
              "        text-align: right;\n",
              "    }\n",
              "</style>\n",
              "<table border=\"1\" class=\"dataframe\">\n",
              "  <thead>\n",
              "    <tr style=\"text-align: right;\">\n",
              "      <th></th>\n",
              "      <th>prod_subcat_code</th>\n",
              "      <th>prod_cat_code</th>\n",
              "    </tr>\n",
              "  </thead>\n",
              "  <tbody>\n",
              "    <tr>\n",
              "      <th>0</th>\n",
              "      <td>5</td>\n",
              "      <td>3</td>\n",
              "    </tr>\n",
              "    <tr>\n",
              "      <th>1</th>\n",
              "      <td>1</td>\n",
              "      <td>1</td>\n",
              "    </tr>\n",
              "    <tr>\n",
              "      <th>2</th>\n",
              "      <td>6</td>\n",
              "      <td>5</td>\n",
              "    </tr>\n",
              "    <tr>\n",
              "      <th>3</th>\n",
              "      <td>12</td>\n",
              "      <td>6</td>\n",
              "    </tr>\n",
              "    <tr>\n",
              "      <th>4</th>\n",
              "      <td>3</td>\n",
              "      <td>1</td>\n",
              "    </tr>\n",
              "    <tr>\n",
              "      <th>6</th>\n",
              "      <td>11</td>\n",
              "      <td>6</td>\n",
              "    </tr>\n",
              "    <tr>\n",
              "      <th>7</th>\n",
              "      <td>8</td>\n",
              "      <td>3</td>\n",
              "    </tr>\n",
              "    <tr>\n",
              "      <th>8</th>\n",
              "      <td>4</td>\n",
              "      <td>4</td>\n",
              "    </tr>\n",
              "    <tr>\n",
              "      <th>10</th>\n",
              "      <td>3</td>\n",
              "      <td>2</td>\n",
              "    </tr>\n",
              "    <tr>\n",
              "      <th>11</th>\n",
              "      <td>1</td>\n",
              "      <td>2</td>\n",
              "    </tr>\n",
              "    <tr>\n",
              "      <th>13</th>\n",
              "      <td>4</td>\n",
              "      <td>1</td>\n",
              "    </tr>\n",
              "    <tr>\n",
              "      <th>14</th>\n",
              "      <td>10</td>\n",
              "      <td>6</td>\n",
              "    </tr>\n",
              "    <tr>\n",
              "      <th>18</th>\n",
              "      <td>4</td>\n",
              "      <td>2</td>\n",
              "    </tr>\n",
              "    <tr>\n",
              "      <th>23</th>\n",
              "      <td>10</td>\n",
              "      <td>3</td>\n",
              "    </tr>\n",
              "    <tr>\n",
              "      <th>25</th>\n",
              "      <td>1</td>\n",
              "      <td>4</td>\n",
              "    </tr>\n",
              "    <tr>\n",
              "      <th>27</th>\n",
              "      <td>2</td>\n",
              "      <td>6</td>\n",
              "    </tr>\n",
              "    <tr>\n",
              "      <th>29</th>\n",
              "      <td>9</td>\n",
              "      <td>3</td>\n",
              "    </tr>\n",
              "    <tr>\n",
              "      <th>34</th>\n",
              "      <td>3</td>\n",
              "      <td>5</td>\n",
              "    </tr>\n",
              "    <tr>\n",
              "      <th>37</th>\n",
              "      <td>12</td>\n",
              "      <td>5</td>\n",
              "    </tr>\n",
              "    <tr>\n",
              "      <th>40</th>\n",
              "      <td>7</td>\n",
              "      <td>5</td>\n",
              "    </tr>\n",
              "    <tr>\n",
              "      <th>47</th>\n",
              "      <td>10</td>\n",
              "      <td>5</td>\n",
              "    </tr>\n",
              "    <tr>\n",
              "      <th>52</th>\n",
              "      <td>11</td>\n",
              "      <td>5</td>\n",
              "    </tr>\n",
              "    <tr>\n",
              "      <th>96</th>\n",
              "      <td>4</td>\n",
              "      <td>3</td>\n",
              "    </tr>\n",
              "  </tbody>\n",
              "</table>\n",
              "</div>"
            ],
            "text/plain": [
              "    prod_subcat_code  prod_cat_code\n",
              "0                  5              3\n",
              "1                  1              1\n",
              "2                  6              5\n",
              "3                 12              6\n",
              "4                  3              1\n",
              "6                 11              6\n",
              "7                  8              3\n",
              "8                  4              4\n",
              "10                 3              2\n",
              "11                 1              2\n",
              "13                 4              1\n",
              "14                10              6\n",
              "18                 4              2\n",
              "23                10              3\n",
              "25                 1              4\n",
              "27                 2              6\n",
              "29                 9              3\n",
              "34                 3              5\n",
              "37                12              5\n",
              "40                 7              5\n",
              "47                10              5\n",
              "52                11              5\n",
              "96                 4              3"
            ]
          },
          "metadata": {
            "tags": []
          },
          "execution_count": 28
        }
      ]
    },
    {
      "cell_type": "code",
      "metadata": {
        "id": "khyJC0W8fwMN",
        "colab_type": "code",
        "outputId": "35165efe-1dec-4f8c-e1fc-8209fefeea24",
        "colab": {
          "base_uri": "https://localhost:8080/",
          "height": 34
        }
      },
      "source": [
        "#how many customers?\n",
        "\n",
        "len(df_transactions['cust_id'].drop_duplicates())"
      ],
      "execution_count": 0,
      "outputs": [
        {
          "output_type": "execute_result",
          "data": {
            "text/plain": [
              "1726"
            ]
          },
          "metadata": {
            "tags": []
          },
          "execution_count": 31
        }
      ]
    },
    {
      "cell_type": "markdown",
      "metadata": {
        "id": "onirsBSbbUeJ",
        "colab_type": "text"
      },
      "source": [
        "# "
      ]
    }
  ]
}